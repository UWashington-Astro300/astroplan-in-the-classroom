{
 "cells": [
  {
   "cell_type": "markdown",
   "metadata": {},
   "source": [
    "# Planning observations with `astroplan`"
   ]
  },
  {
   "cell_type": "code",
   "execution_count": null,
   "metadata": {},
   "outputs": [],
   "source": [
    "import numpy as np\n",
    "\n",
    "import astropy.units as u\n",
    "from astropy.time import Time\n",
    "from astropy.coordinates import SkyCoord\n",
    "import pytz\n",
    "\n",
    "from astroplan import Observer, FixedTarget"
   ]
  },
  {
   "cell_type": "markdown",
   "metadata": {},
   "source": [
    "## Time and Dates\n",
    "- ### All dates and times in are UTC: *Coordinated Universal Time* \n",
    "- All `Time` calculation assume that the time is UTC\n",
    "- UTC is related to  Greenwich Mean Time (GMT) but does not change with a change of seasons.\n",
    "- Time will default to 00:00:00 UTC"
   ]
  },
  {
   "cell_type": "code",
   "execution_count": null,
   "metadata": {},
   "outputs": [],
   "source": [
    "date1 = Time(\"2017-02-15 12:26:15\", format='iso')\n",
    "\n",
    "print(date1)"
   ]
  },
  {
   "cell_type": "code",
   "execution_count": null,
   "metadata": {},
   "outputs": [],
   "source": [
    "date2 = Time(\"2017-02-15\", format='iso')\n",
    "\n",
    "print(date2)"
   ]
  },
  {
   "cell_type": "markdown",
   "metadata": {},
   "source": [
    "### Current UTC Time"
   ]
  },
  {
   "cell_type": "code",
   "execution_count": null,
   "metadata": {},
   "outputs": [],
   "source": [
    "now = Time.now()    # Current UTC Time\n",
    "\n",
    "print(now)"
   ]
  },
  {
   "cell_type": "markdown",
   "metadata": {},
   "source": [
    "### Different Date Formats"
   ]
  },
  {
   "cell_type": "code",
   "execution_count": null,
   "metadata": {},
   "outputs": [],
   "source": [
    "print(now.jd)               # Julian Date\n",
    "\n",
    "print(now.mjd)              # Modified Julian Date\n",
    "\n",
    "print(now.unix)             # Seconds since the unix epoch (Jan 01, 1970 00:00:00 UTC)\n",
    "\n",
    "print(now.decimalyear)      # Fraction of the year (very useful for plotting)"
   ]
  },
  {
   "cell_type": "markdown",
   "metadata": {},
   "source": [
    "### Math with Time and Dates"
   ]
  },
  {
   "cell_type": "code",
   "execution_count": null,
   "metadata": {},
   "outputs": [],
   "source": [
    "print(\"In 1 hour and 25 minutes it will be {0} UTC\".format(now + 1*u.h + 25*u.min))"
   ]
  },
  {
   "cell_type": "code",
   "execution_count": null,
   "metadata": {},
   "outputs": [],
   "source": [
    "Christmas = Time(\"2017-12-25 00:00:00\", format='iso')\n",
    "\n",
    "dt = Christmas - now\n",
    "\n",
    "print(dt.to(u.d))           # difference in days\n",
    "\n",
    "print(dt.to(u.fortnight))   # difference in fortnights\n",
    "\n",
    "print(dt.to(u.s))           # difference in seconds"
   ]
  },
  {
   "cell_type": "markdown",
   "metadata": {},
   "source": [
    "### Working with timezones (local time)\n",
    "\n",
    "- The python package `pytz` is used to try to deal with local timezones\n",
    "- [Timezone List](https://en.wikipedia.org/wiki/List_of_tz_database_time_zones)\n",
    "- Working with tomezones is a quick path to maddness!\n",
    "- Only use timezone conversions for printouts, NEVER calculations!"
   ]
  },
  {
   "cell_type": "code",
   "execution_count": null,
   "metadata": {
    "collapsed": true
   },
   "outputs": [],
   "source": [
    "mytimezone = pytz.timezone('US/Pacific')\n",
    "\n",
    "local_now = now.to_datetime(mytimezone)"
   ]
  },
  {
   "cell_type": "code",
   "execution_count": null,
   "metadata": {},
   "outputs": [],
   "source": [
    "print(\"The current local time is {0}\".format(local_now))"
   ]
  },
  {
   "cell_type": "code",
   "execution_count": null,
   "metadata": {
    "collapsed": true
   },
   "outputs": [],
   "source": [
    "# Nepal is in a strange timezone!\n",
    "\n",
    "everest_timezone = pytz.timezone('Asia/Kathmandu')\n",
    "\n",
    "everest_local_now = now.to_datetime(everest_timezone)"
   ]
  },
  {
   "cell_type": "code",
   "execution_count": null,
   "metadata": {},
   "outputs": [],
   "source": [
    "print(\"The current local time on Mt. Everest is {0}\".format(everest_local_now))"
   ]
  },
  {
   "cell_type": "markdown",
   "metadata": {},
   "source": [
    "---\n",
    "\n",
    "### [Accurate Time](http://bmmorris.blogspot.com/2015/06/ut1-utc-and-astropy.html) - `UT1`\n",
    "\n",
    "`AstroPy` calculates the times of events to a very high accuracy. To do this, is has to account for the fact that  Earth's rotation period is constantly changing due to tidal forces and changes in the Earth's moment of inertia.\n",
    "\n",
    "To do this, `AstroPy` uses a time convention called `UT1`. This system is tied to the rotation of the Earth with repect to the positions of distant quasars. Since the Earth's rotation is constantly changing, the time system `UT1` is constanly changing with repect to `UTC`. \n",
    "\n",
    "The orientation of the Earth, which must be measured continuously to keep `UT1` accurate. This measurement is logged by the International Earth Rotation and Reference Systems Service (IERS). They publish a \"bulletin\" with the most recent measurements of the Earth's orientation. This bulletin is constantly being updated.\n",
    "\n",
    "You will run into occasions when you will get a warning that your dates are out of range of the IERS bulletin. To update the bulletin, run the follow block of code:\n",
    "\n",
    "---"
   ]
  },
  {
   "cell_type": "code",
   "execution_count": null,
   "metadata": {},
   "outputs": [],
   "source": [
    "from astroplan import download_IERS_A\n",
    "\n",
    "download_IERS_A()"
   ]
  },
  {
   "cell_type": "markdown",
   "metadata": {},
   "source": [
    "## Setting your location - `Observer`"
   ]
  },
  {
   "cell_type": "code",
   "execution_count": null,
   "metadata": {
    "collapsed": true
   },
   "outputs": [],
   "source": [
    "astrolab = Observer(longitude = -122.311473 * u.deg,\n",
    "                    latitude = 47 * u.deg + 39 * u.arcmin + 15 * u.arcsec,\n",
    "                    elevation = 63.4 * u.m,\n",
    "                    timezone = 'US/Pacific',\n",
    "                    name = \"Astrolab\"\n",
    "                    )"
   ]
  },
  {
   "cell_type": "code",
   "execution_count": null,
   "metadata": {},
   "outputs": [],
   "source": [
    "astrolab"
   ]
  },
  {
   "cell_type": "markdown",
   "metadata": {},
   "source": [
    "### Information at your location"
   ]
  },
  {
   "cell_type": "code",
   "execution_count": null,
   "metadata": {},
   "outputs": [],
   "source": [
    "sunset_here = astrolab.sun_set_time(now, which='nearest')\n",
    "sunrise_here = astrolab.sun_rise_time(now, which='next')\n",
    "midnight_here = astrolab.midnight(now, which='next')\n",
    "\n",
    "print(\"Sunset will be at {0.iso} UTC\".format(sunset_here))\n",
    "print(\"Local Midnight will be at {0.iso} UTC\".format(midnight_here))\n",
    "print(\"Sunrise will be at {0.iso} UTC\".format(sunrise_here))"
   ]
  },
  {
   "cell_type": "code",
   "execution_count": null,
   "metadata": {},
   "outputs": [],
   "source": [
    "print(\"Sunset will be at {0} local time\".format(sunset_here.to_datetime(mytimezone)))\n",
    "print(\"Local Midnight will be at {0} local time\".format(midnight_here.to_datetime(mytimezone)))\n",
    "print(\"Sunrise will be at {0} local time\".format(sunrise_here.to_datetime(mytimezone)))"
   ]
  },
  {
   "cell_type": "markdown",
   "metadata": {},
   "source": [
    "### The Manastash Ridge Observatory (MRO) is operated by the Astronomy Department of the University of Washington for the training of graduate and undergraduate students as well as for astronomical research."
   ]
  },
  {
   "cell_type": "code",
   "execution_count": null,
   "metadata": {},
   "outputs": [],
   "source": [
    "mro = Observer.at_site('mro')\n",
    "\n",
    "mro"
   ]
  },
  {
   "cell_type": "code",
   "execution_count": null,
   "metadata": {},
   "outputs": [],
   "source": [
    "sunset_mro = mro.sun_set_time(now, which='nearest')\n",
    "\n",
    "print(\"Sunset at MRO will be at {0} local time\".format(sunset_mro.to_datetime(mytimezone)))"
   ]
  },
  {
   "cell_type": "code",
   "execution_count": null,
   "metadata": {},
   "outputs": [],
   "source": [
    "(sunset_here - sunset_mro).to(u.min)"
   ]
  },
  {
   "cell_type": "markdown",
   "metadata": {},
   "source": [
    "### Local Siderial Time (LST) will tell you the Right Ascension on the meridian right now."
   ]
  },
  {
   "cell_type": "code",
   "execution_count": null,
   "metadata": {},
   "outputs": [],
   "source": [
    "midnight_mro = mro.midnight(now, which='next')\n",
    "\n",
    "astrolab.local_sidereal_time(midnight_mro)"
   ]
  },
  {
   "cell_type": "markdown",
   "metadata": {},
   "source": [
    "### Astronomical twilight is when the Sun is 18 degrees below the horizon"
   ]
  },
  {
   "cell_type": "code",
   "execution_count": null,
   "metadata": {},
   "outputs": [],
   "source": [
    "astro_set = mro.twilight_evening_astronomical(now, which='nearest')  \n",
    "astro_rise = mro.twilight_morning_astronomical(now, which='next')\n",
    "\n",
    "print(\"Astronomical Evening Twilight starts at {0.iso} UTC\".format(astro_set))\n",
    "print(\"Astronomical Midnight is at {0.iso} UTC\".format(midnight_mro))\n",
    "print(\"Astronomical Morning Twilight starts at {0.iso} UTC\".format(astro_rise))"
   ]
  },
  {
   "cell_type": "code",
   "execution_count": null,
   "metadata": {},
   "outputs": [],
   "source": [
    "observing_length = (astro_rise - astro_set).to(u.h)\n",
    "\n",
    "print(\"You can observe for {0:.1f} at MRO tonight\".format(observing_length))"
   ]
  },
  {
   "cell_type": "code",
   "execution_count": null,
   "metadata": {},
   "outputs": [],
   "source": [
    "# Local Times\n",
    "\n",
    "print(\"Astronomical Evening Twilight starts at {0} local time\".format(astro_set.to_datetime(mytimezone)))\n",
    "print(\"Astronomical Midnight is at {0} local time\".format(midnight_mro.to_datetime(mytimezone)))\n",
    "print(\"Astronomical Morning Twilight starts at {0} local time\".format(astro_rise.to_datetime(mytimezone)))"
   ]
  },
  {
   "cell_type": "markdown",
   "metadata": {},
   "source": [
    "## Objects in the sky - `FixedTarget`"
   ]
  },
  {
   "cell_type": "markdown",
   "metadata": {},
   "source": [
    "### You can define targets by [coordinates](./Astro_Coordinates.pdf)"
   ]
  },
  {
   "cell_type": "code",
   "execution_count": null,
   "metadata": {
    "collapsed": true
   },
   "outputs": [],
   "source": [
    "coords = SkyCoord('02h19m00.0s', '+57d07m042s', frame='icrs')\n",
    "ngc869 = FixedTarget(name='NGC869', coord=coords)"
   ]
  },
  {
   "cell_type": "code",
   "execution_count": null,
   "metadata": {},
   "outputs": [],
   "source": [
    "ngc869.ra"
   ]
  },
  {
   "cell_type": "code",
   "execution_count": null,
   "metadata": {},
   "outputs": [],
   "source": [
    "ngc869.ra.hms"
   ]
  },
  {
   "cell_type": "code",
   "execution_count": null,
   "metadata": {},
   "outputs": [],
   "source": [
    "astrolab.target_is_up(midnight_here, ngc869)"
   ]
  },
  {
   "cell_type": "code",
   "execution_count": null,
   "metadata": {},
   "outputs": [],
   "source": [
    "# Altitude and Azimuth of a target at a specific time\n",
    "\n",
    "aa = astrolab.altaz(midnight_here, ngc869)\n",
    "\n",
    "aa.alt.degree, aa.az.degree"
   ]
  },
  {
   "cell_type": "code",
   "execution_count": null,
   "metadata": {},
   "outputs": [],
   "source": [
    "# You can get the galactice coords of the target\n",
    "\n",
    "aa.galactic"
   ]
  },
  {
   "cell_type": "code",
   "execution_count": null,
   "metadata": {},
   "outputs": [],
   "source": [
    "# You can get the coords at a different epoch (1950)\n",
    "\n",
    "aa.fk4"
   ]
  },
  {
   "cell_type": "markdown",
   "metadata": {},
   "source": [
    "### Most targets can be defined by name"
   ]
  },
  {
   "cell_type": "code",
   "execution_count": null,
   "metadata": {
    "collapsed": true
   },
   "outputs": [],
   "source": [
    "my_target = FixedTarget.from_name(\"m31\")"
   ]
  },
  {
   "cell_type": "code",
   "execution_count": null,
   "metadata": {},
   "outputs": [],
   "source": [
    "my_target.coord "
   ]
  },
  {
   "cell_type": "code",
   "execution_count": null,
   "metadata": {},
   "outputs": [],
   "source": [
    "my_target.ra.hms"
   ]
  },
  {
   "cell_type": "markdown",
   "metadata": {},
   "source": [
    "## Objects in the sky - Moving Targets (solar system targets)\n",
    "\n",
    "- `Astropy` used the `jplephem` package to calculate the positions\n",
    "- The built-in solar system objects are: 'sun', 'mercury', 'venus', 'earth-moon-barycenter', 'earth', 'moon', 'mars', 'jupiter', 'saturn', 'uranus', 'neptune', 'pluto'"
   ]
  },
  {
   "cell_type": "code",
   "execution_count": null,
   "metadata": {
    "collapsed": true
   },
   "outputs": [],
   "source": [
    "from astropy.coordinates import get_sun, get_body, get_moon\n",
    "from astroplan import moon_illumination"
   ]
  },
  {
   "cell_type": "code",
   "execution_count": null,
   "metadata": {},
   "outputs": [],
   "source": [
    "get_body('jupiter',now)"
   ]
  },
  {
   "cell_type": "code",
   "execution_count": null,
   "metadata": {
    "collapsed": true
   },
   "outputs": [],
   "source": [
    "moon_midnight = get_moon(midnight_here)"
   ]
  },
  {
   "cell_type": "code",
   "execution_count": null,
   "metadata": {},
   "outputs": [],
   "source": [
    "moon_illumination(midnight_here)"
   ]
  },
  {
   "cell_type": "code",
   "execution_count": null,
   "metadata": {},
   "outputs": [],
   "source": [
    "my_target.coord.separation(moon_midnight)"
   ]
  },
  {
   "cell_type": "markdown",
   "metadata": {},
   "source": [
    "### You can turn solar system objects into pseudo `FixedTarget` objects for observational planning"
   ]
  },
  {
   "cell_type": "code",
   "execution_count": null,
   "metadata": {
    "collapsed": true
   },
   "outputs": [],
   "source": [
    "mars_midnight = FixedTarget(name='Mars', coord=get_body('mars',midnight_mro))"
   ]
  },
  {
   "cell_type": "code",
   "execution_count": null,
   "metadata": {},
   "outputs": [],
   "source": [
    "mars_midnight"
   ]
  },
  {
   "cell_type": "markdown",
   "metadata": {},
   "source": [
    "### Planning - Observing at MRO"
   ]
  },
  {
   "cell_type": "markdown",
   "metadata": {},
   "source": [
    "#### [Air Mass](https://en.wikipedia.org/wiki/Air_mass_%28astronomy%29) is the optical path length through Earth’s atmosphere. At sea-level, the air mass at the zenith is 1. Air mass increases as you move toward the horizon, reaching a value of approximately 38 at the horizon.\n",
    "\n",
    "- #### The best time to observe a target is at minimum airmass.\n",
    "- #### When the airmass of your target is getting close to 2, you should be observing another target."
   ]
  },
  {
   "cell_type": "code",
   "execution_count": null,
   "metadata": {},
   "outputs": [],
   "source": [
    "mro.target_is_up(midnight_mro, my_target)"
   ]
  },
  {
   "cell_type": "markdown",
   "metadata": {},
   "source": [
    "Object is up at midnight at MRO - good"
   ]
  },
  {
   "cell_type": "code",
   "execution_count": null,
   "metadata": {},
   "outputs": [],
   "source": [
    "altaz_my_target = astrolab.altaz(midnight_mro, my_target)\n",
    "\n",
    "altaz_my_target.alt, altaz_my_target.az"
   ]
  },
  {
   "cell_type": "markdown",
   "metadata": {},
   "source": [
    "Nice high altitude - looking good"
   ]
  },
  {
   "cell_type": "code",
   "execution_count": null,
   "metadata": {},
   "outputs": [],
   "source": [
    "# You can find the airmass by using the .secz method\n",
    "\n",
    "altaz_my_target.secz"
   ]
  },
  {
   "cell_type": "markdown",
   "metadata": {},
   "source": [
    "Airmass < 2, you are good to go."
   ]
  },
  {
   "cell_type": "markdown",
   "metadata": {},
   "source": [
    "## Planning observation is easier with plots"
   ]
  },
  {
   "cell_type": "code",
   "execution_count": null,
   "metadata": {
    "collapsed": true
   },
   "outputs": [],
   "source": [
    "%matplotlib inline\n",
    "import matplotlib.pyplot as plt\n",
    "\n",
    "from astroplan.plots import plot_sky, plot_airmass"
   ]
  },
  {
   "cell_type": "code",
   "execution_count": null,
   "metadata": {},
   "outputs": [],
   "source": [
    "plot_sky(my_target, mro, midnight_mro);"
   ]
  },
  {
   "cell_type": "code",
   "execution_count": null,
   "metadata": {},
   "outputs": [],
   "source": [
    "start_time = astro_set\n",
    "end_time = astro_rise\n",
    "\n",
    "delta_t = end_time - start_time\n",
    "\n",
    "observe_time = start_time + delta_t * np.linspace(0.0, 1.0, 30)\n",
    "\n",
    "# np.linspace(0, 1, 30) make 30 evenly spaced points from 0.0 to 1.0\n",
    "\n",
    "plot_sky(my_target, mro, observe_time);"
   ]
  },
  {
   "cell_type": "markdown",
   "metadata": {},
   "source": [
    "### Plot the airmass of the target over the night"
   ]
  },
  {
   "cell_type": "code",
   "execution_count": null,
   "metadata": {},
   "outputs": [],
   "source": [
    "plot_airmass(my_target, mro, observe_time);"
   ]
  },
  {
   "cell_type": "markdown",
   "metadata": {},
   "source": [
    "This is good target for observation at MRO for most of the night"
   ]
  },
  {
   "cell_type": "markdown",
   "metadata": {},
   "source": [
    "### Not all targets can (or should) be observed at all locations"
   ]
  },
  {
   "cell_type": "code",
   "execution_count": null,
   "metadata": {},
   "outputs": [],
   "source": [
    "mro.target_is_up(astro_set, mars_midnight)"
   ]
  },
  {
   "cell_type": "code",
   "execution_count": null,
   "metadata": {},
   "outputs": [],
   "source": [
    "plot_sky(mars_midnight, mro, observe_time);"
   ]
  },
  {
   "cell_type": "code",
   "execution_count": null,
   "metadata": {},
   "outputs": [],
   "source": [
    "plot_airmass(mars_midnight, mro, observe_time);"
   ]
  },
  {
   "cell_type": "markdown",
   "metadata": {},
   "source": [
    "Not looking good"
   ]
  },
  {
   "cell_type": "code",
   "execution_count": null,
   "metadata": {},
   "outputs": [],
   "source": [
    "# astroplan sets the default limits of the airmass plot to [3,0].\n",
    "# If you want to see a target at a higher airmass you have to set the limits yourself.\n",
    "\n",
    "fig,ax = plt.subplots(1,1)\n",
    "\n",
    "plot_airmass(mars_midnight, mro, observe_time)\n",
    "ax.set_ylim([20,0]);"
   ]
  },
  {
   "cell_type": "markdown",
   "metadata": {},
   "source": [
    "As you can see, this is bad target for observation at MRO."
   ]
  },
  {
   "cell_type": "markdown",
   "metadata": {},
   "source": [
    "### Finder Charts - (Warning: This may not always work depending on the Skyview website)"
   ]
  },
  {
   "cell_type": "code",
   "execution_count": null,
   "metadata": {
    "collapsed": true
   },
   "outputs": [],
   "source": [
    "from astroplan.plots import plot_finder_image\n",
    "from astroquery.skyview import SkyView"
   ]
  },
  {
   "cell_type": "code",
   "execution_count": null,
   "metadata": {},
   "outputs": [],
   "source": [
    "plot_finder_image(ngc869)"
   ]
  },
  {
   "cell_type": "code",
   "execution_count": null,
   "metadata": {},
   "outputs": [],
   "source": [
    "# plot_finder_image defaults to a field of view of 10 u*arcmin\n",
    "# You can specify a different fov\n",
    "\n",
    "plot_finder_image(ngc869, fov_radius= 1.3 * u.degree)"
   ]
  },
  {
   "cell_type": "code",
   "execution_count": null,
   "metadata": {},
   "outputs": [],
   "source": [
    "plot_finder_image(my_target, fov_radius= 90 * u.arcmin)"
   ]
  },
  {
   "cell_type": "code",
   "execution_count": null,
   "metadata": {
    "collapsed": true
   },
   "outputs": [],
   "source": []
  }
 ],
 "metadata": {
  "anaconda-cloud": {},
  "kernelspec": {
   "display_name": "Python 3",
   "language": "python",
   "name": "python3"
  },
  "language_info": {
   "codemirror_mode": {
    "name": "ipython",
    "version": 3
   },
   "file_extension": ".py",
   "mimetype": "text/x-python",
   "name": "python",
   "nbconvert_exporter": "python",
   "pygments_lexer": "ipython3",
   "version": "3.6.2"
  }
 },
 "nbformat": 4,
 "nbformat_minor": 1
}
